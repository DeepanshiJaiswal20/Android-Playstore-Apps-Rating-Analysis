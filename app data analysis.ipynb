{
 "cells": [
  {
   "cell_type": "code",
   "execution_count": 5,
   "id": "4d27d1b6",
   "metadata": {},
   "outputs": [
    {
     "data": {
      "text/plain": [
       "['App,Category,Rating,Reviews,Installs\\n',\n",
       " 'Photo Editor & Candy Camera & Grid & ScrapBook,ART_AND_DESIGN,4.1,159,\"10,000+\"\\n',\n",
       " 'Coloring book moana,ART_AND_DESIGN,3.9,967,\"500,000+\"\\n',\n",
       " '\"U Launcher Lite â€“ FREE Live Cool Themes, Hide Apps\",ART_AND_DESIGN,4.7,87510,\"5,000,000+\"\\n',\n",
       " 'Sketch - Draw & Paint,ART_AND_DESIGN,4.5,215644,\"50,000,000+\"\\n',\n",
       " 'Pixel Draw - Number Art Coloring Book,ART_AND_DESIGN,4.3,967,\"100,000+\"\\n',\n",
       " 'SKencar,AUTO_AND_VEHICLES,3.7,4806,\"1,000,000+\"\\n',\n",
       " 'Fuelio: Gas log & costs,AUTO_AND_VEHICLES,4.6,65786,\"1,000,000+\"\\n',\n",
       " 'auto fines,AUTO_AND_VEHICLES,4.6,31433,\"1,000,000+\"\\n',\n",
       " 'Inquiry Fines and Debits of Vehicles,AUTO_AND_VEHICLES,4.4,2680,\"500,000+\"\\n',\n",
       " 'Gas Station,AUTO_AND_VEHICLES,4,1288,\"100,000+\"\\n',\n",
       " 'Hush - Beauty for Everyone,BEAUTY,4.7,18900,\"500,000+\"\\n',\n",
       " '\"ipsy: Makeup, Beauty, and Tips\",BEAUTY,4.9,49790,\"1,000,000+\"\\n',\n",
       " 'Natural recipes for your beauty,BEAUTY,4.7,1150,\"100,000+\"\\n',\n",
       " '\"BestCam Selfie-selfie, beauty camera, photo editor\",BEAUTY,3.9,1739,\"500,000+\"\\n',\n",
       " 'Mirror - Zoom & Exposure -,BEAUTY,3.9,32090,\"1,000,000+\"\\n',\n",
       " 'Beauty Selfie Camera,BEAUTY,4.2,2225,\"500,000+\"\\n',\n",
       " 'Hairstyles step by step,BEAUTY,4.6,4369,\"100,000+\"\\n',\n",
       " 'Filters for Selfie,BEAUTY,4.3,8572,\"1,000,000+\"\\n',\n",
       " 'Y! Mobile menu,BUSINESS,NaN,9,\"100,000+\"\\n',\n",
       " 'SignEasy | Sign and Fill PDF and other Documents,BUSINESS,4.3,8978,\"1,000,000+\"\\n',\n",
       " 'Quick PDF Scanner + OCR FREE,BUSINESS,4.2,80805,\"5,000,000+\"\\n',\n",
       " 'Genius Scan - PDF Scanner,BUSINESS,4.4,42492,\"1,000,000+\"\\n',\n",
       " 'Tiny Scanner - PDF Scanner App,BUSINESS,4.7,286897,\"10,000,000+\"\\n',\n",
       " 'Fast Scanner : Free PDF Scan,BUSINESS,4.5,103755,\"10,000,000+\"\\n']"
      ]
     },
     "execution_count": 5,
     "metadata": {},
     "output_type": "execute_result"
    }
   ],
   "source": [
    "#appdata.csv\n",
    "with open('appdata.csv','r') as file: data=file.readlines()\n",
    "data"
   ]
  },
  {
   "cell_type": "code",
   "execution_count": 47,
   "id": "a43e56b9",
   "metadata": {},
   "outputs": [],
   "source": [
    "app1 = data[1]\n",
    "APP1 = app1.split(',')\n",
    "app2 = data[2]\n",
    "APP2 = app2.split(',')\n",
    "app3 = data[3]\n",
    "APP3 = app3.split(',')\n",
    "app4 = data[4]\n",
    "APP4 = app4.split(',')\n",
    "app5 = data[4]\n",
    "APP5 = app5.split(',')"
   ]
  },
  {
   "cell_type": "code",
   "execution_count": 56,
   "id": "c8460778",
   "metadata": {},
   "outputs": [
    {
     "ename": "ValueError",
     "evalue": "could not convert string to float: 'ART_AND_DESIGN'",
     "output_type": "error",
     "traceback": [
      "\u001b[1;31m---------------------------------------------------------------------------\u001b[0m",
      "\u001b[1;31mValueError\u001b[0m                                Traceback (most recent call last)",
      "\u001b[1;32mC:\\Users\\TARUNB~1\\AppData\\Local\\Temp/ipykernel_6616/1848495051.py\u001b[0m in \u001b[0;36m<module>\u001b[1;34m\u001b[0m\n\u001b[1;32m----> 1\u001b[1;33m \u001b[0mratings\u001b[0m \u001b[1;33m=\u001b[0m \u001b[1;33m[\u001b[0m\u001b[0mfloat\u001b[0m\u001b[1;33m(\u001b[0m\u001b[0mAPP1\u001b[0m\u001b[1;33m[\u001b[0m\u001b[1;36m2\u001b[0m\u001b[1;33m]\u001b[0m\u001b[1;33m)\u001b[0m\u001b[1;33m,\u001b[0m\u001b[0mfloat\u001b[0m\u001b[1;33m(\u001b[0m\u001b[0mAPP2\u001b[0m\u001b[1;33m[\u001b[0m\u001b[1;36m2\u001b[0m\u001b[1;33m]\u001b[0m\u001b[1;33m)\u001b[0m\u001b[1;33m,\u001b[0m\u001b[0mfloat\u001b[0m\u001b[1;33m(\u001b[0m\u001b[0mAPP3\u001b[0m\u001b[1;33m[\u001b[0m\u001b[1;36m2\u001b[0m\u001b[1;33m]\u001b[0m\u001b[1;33m)\u001b[0m\u001b[1;33m,\u001b[0m\u001b[0mfloat\u001b[0m\u001b[1;33m(\u001b[0m\u001b[0mAPP4\u001b[0m\u001b[1;33m[\u001b[0m\u001b[1;36m2\u001b[0m\u001b[1;33m]\u001b[0m\u001b[1;33m)\u001b[0m\u001b[1;33m,\u001b[0m\u001b[0mfloat\u001b[0m\u001b[1;33m(\u001b[0m\u001b[0mAPP5\u001b[0m\u001b[1;33m[\u001b[0m\u001b[1;36m2\u001b[0m\u001b[1;33m]\u001b[0m\u001b[1;33m)\u001b[0m\u001b[1;33m]\u001b[0m\u001b[1;33m\u001b[0m\u001b[1;33m\u001b[0m\u001b[0m\n\u001b[0m\u001b[0;32m      2\u001b[0m \u001b[0mratings\u001b[0m\u001b[1;33m\u001b[0m\u001b[1;33m\u001b[0m\u001b[0m\n",
      "\u001b[1;31mValueError\u001b[0m: could not convert string to float: 'ART_AND_DESIGN'"
     ]
    }
   ],
   "source": [
    "ratings = [float(APP1[2]),float(APP2[2]),float(APP3[2]),float(APP4[2]),float(APP5[2])]\n",
    "ratings"
   ]
  },
  {
   "cell_type": "code",
   "execution_count": 33,
   "id": "0c382f0b",
   "metadata": {},
   "outputs": [
    {
     "data": {
      "text/plain": [
       "4.7"
      ]
     },
     "execution_count": 33,
     "metadata": {},
     "output_type": "execute_result"
    }
   ],
   "source": [
    "max(ratings)"
   ]
  },
  {
   "cell_type": "code",
   "execution_count": 34,
   "id": "5fb148d7",
   "metadata": {},
   "outputs": [
    {
     "data": {
      "text/plain": [
       "2"
      ]
     },
     "execution_count": 34,
     "metadata": {},
     "output_type": "execute_result"
    }
   ],
   "source": [
    "ratings.index(max(ratings))"
   ]
  },
  {
   "cell_type": "code",
   "execution_count": 35,
   "id": "28185a8f",
   "metadata": {},
   "outputs": [
    {
     "data": {
      "text/plain": [
       "4.1"
      ]
     },
     "execution_count": 35,
     "metadata": {},
     "output_type": "execute_result"
    }
   ],
   "source": [
    "min(ratings)"
   ]
  },
  {
   "cell_type": "code",
   "execution_count": 36,
   "id": "f265f3c1",
   "metadata": {},
   "outputs": [
    {
     "data": {
      "text/plain": [
       "0"
      ]
     },
     "execution_count": 36,
     "metadata": {},
     "output_type": "execute_result"
    }
   ],
   "source": [
    "ratings.index(min(ratings))"
   ]
  },
  {
   "cell_type": "code",
   "execution_count": 37,
   "id": "ec79a859",
   "metadata": {},
   "outputs": [
    {
     "data": {
      "text/plain": [
       "5"
      ]
     },
     "execution_count": 37,
     "metadata": {},
     "output_type": "execute_result"
    }
   ],
   "source": [
    "len(ratings)"
   ]
  },
  {
   "cell_type": "code",
   "execution_count": 38,
   "id": "951c3370",
   "metadata": {},
   "outputs": [
    {
     "data": {
      "text/plain": [
       "22.599999999999998"
      ]
     },
     "execution_count": 38,
     "metadata": {},
     "output_type": "execute_result"
    }
   ],
   "source": [
    "sum(ratings)"
   ]
  },
  {
   "cell_type": "code",
   "execution_count": 40,
   "id": "bba078d3",
   "metadata": {},
   "outputs": [
    {
     "data": {
      "text/plain": [
       "4.52"
      ]
     },
     "execution_count": 40,
     "metadata": {},
     "output_type": "execute_result"
    }
   ],
   "source": [
    "avg = sum(ratings)/len(ratings)\n",
    "avg"
   ]
  },
  {
   "cell_type": "code",
   "execution_count": 42,
   "id": "2f2d1b1b",
   "metadata": {},
   "outputs": [
    {
     "data": {
      "text/plain": [
       "[159, 31433, 1150, 286897, 103755]"
      ]
     },
     "execution_count": 42,
     "metadata": {},
     "output_type": "execute_result"
    }
   ],
   "source": [
    "review = [int(APP1[3]),int(APP2[3]),int(APP3[3]),int(APP4[3]),int(APP5[3])]\n",
    "review"
   ]
  },
  {
   "cell_type": "code",
   "execution_count": 45,
   "id": "c1ff5eb5",
   "metadata": {},
   "outputs": [
    {
     "name": "stdout",
     "output_type": "stream",
     "text": [
      "Maximum review is :  286897\n",
      "Minimum review is :  159\n",
      "Total no. of reviews :  423394\n",
      "Average apps reviewed:  84678.8\n"
     ]
    }
   ],
   "source": [
    "print(\"Maximum review is : \", max(review))\n",
    "print(\"Minimum review is : \", min(review))\n",
    "print(\"Total no. of reviews : \", sum(review))\n",
    "print(\"Average apps reviewed: \", sum(review)/len(review))"
   ]
  },
  {
   "cell_type": "code",
   "execution_count": 59,
   "id": "8af5cf94",
   "metadata": {},
   "outputs": [
    {
     "data": {
      "text/plain": [
       "'\"U Launcher Lite â€“ FREE Live Cool Themes'"
      ]
     },
     "execution_count": 59,
     "metadata": {},
     "output_type": "execute_result"
    }
   ],
   "source": [
    "ind = ratings.index(max(ratings))\n",
    "i = ind+1\n",
    "name = data[i]\n",
    "app_name = name.split(',')\n",
    "app_name[0]\n"
   ]
  },
  {
   "cell_type": "code",
   "execution_count": 63,
   "id": "7cabdde0",
   "metadata": {},
   "outputs": [
    {
     "data": {
      "text/plain": [
       "'Photo Editor & Candy Camera & Grid & ScrapBook'"
      ]
     },
     "execution_count": 63,
     "metadata": {},
     "output_type": "execute_result"
    }
   ],
   "source": [
    "ind1 = ratings.index(min(ratings))\n",
    "j = ind1+1\n",
    "name1 = data[j]\n",
    "min_app_name = name1.split(',')\n",
    "min_app_name[0]\n"
   ]
  },
  {
   "cell_type": "code",
   "execution_count": 64,
   "id": "b73c7802",
   "metadata": {},
   "outputs": [
    {
     "data": {
      "text/plain": [
       "25"
      ]
     },
     "execution_count": 64,
     "metadata": {},
     "output_type": "execute_result"
    }
   ],
   "source": [
    "len(data)"
   ]
  },
  {
   "cell_type": "code",
   "execution_count": 65,
   "id": "26b6346f",
   "metadata": {},
   "outputs": [
    {
     "data": {
      "text/plain": [
       "4.7"
      ]
     },
     "execution_count": 65,
     "metadata": {},
     "output_type": "execute_result"
    }
   ],
   "source": [
    "def mode(ratings):\n",
    "        if ratings==[]:\n",
    "            return None\n",
    "        else:\n",
    "            return max(set(ratings), key=ratings.count)\n",
    "        \n",
    "mode(ratings)"
   ]
  },
  {
   "cell_type": "code",
   "execution_count": null,
   "id": "44597d00",
   "metadata": {},
   "outputs": [],
   "source": []
  }
 ],
 "metadata": {
  "kernelspec": {
   "display_name": "Python 3 (ipykernel)",
   "language": "python",
   "name": "python3"
  },
  "language_info": {
   "codemirror_mode": {
    "name": "ipython",
    "version": 3
   },
   "file_extension": ".py",
   "mimetype": "text/x-python",
   "name": "python",
   "nbconvert_exporter": "python",
   "pygments_lexer": "ipython3",
   "version": "3.9.7"
  }
 },
 "nbformat": 4,
 "nbformat_minor": 5
}
